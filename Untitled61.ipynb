{
  "nbformat": 4,
  "nbformat_minor": 0,
  "metadata": {
    "colab": {
      "provenance": []
    },
    "kernelspec": {
      "name": "python3",
      "display_name": "Python 3"
    },
    "language_info": {
      "name": "python"
    }
  },
  "cells": [
    {
      "cell_type": "code",
      "execution_count": 1,
      "metadata": {
        "id": "WmrgtqXcFrvH"
      },
      "outputs": [],
      "source": [
        "import math"
      ]
    },
    {
      "cell_type": "code",
      "source": [
        "y_1 = 1*(10**(-20))\n",
        "y_2= (1.380649e-23)*300\n",
        "n= 6.022e23"
      ],
      "metadata": {
        "id": "-s-GozGZGOpw"
      },
      "execution_count": 2,
      "outputs": []
    },
    {
      "cell_type": "code",
      "source": [
        "def bolt(y_1,y_2,n):\n",
        "  b = (math.exp(-(y_1/y_2)))*n\n",
        "  return b"
      ],
      "metadata": {
        "id": "o28xea74Fwiv"
      },
      "execution_count": 3,
      "outputs": []
    },
    {
      "cell_type": "code",
      "source": [
        "bolt(y_1, y_2, n)"
      ],
      "metadata": {
        "colab": {
          "base_uri": "https://localhost:8080/"
        },
        "id": "XiVrhpdXJJK4",
        "outputId": "fe7804ad-69bf-4613-ebf2-19a1571fca78"
      },
      "execution_count": 4,
      "outputs": [
        {
          "output_type": "execute_result",
          "data": {
            "text/plain": [
              "5.3853430736539366e+22"
            ]
          },
          "metadata": {},
          "execution_count": 4
        }
      ]
    },
    {
      "cell_type": "code",
      "source": [
        "5.3853430736539366e+22/ 2"
      ],
      "metadata": {
        "colab": {
          "base_uri": "https://localhost:8080/"
        },
        "id": "TtmY9aHF9SDi",
        "outputId": "28814b55-fe7f-4572-9eb7-d252e69c4cb1"
      },
      "execution_count": 5,
      "outputs": [
        {
          "output_type": "execute_result",
          "data": {
            "text/plain": [
              "2.6926715368269683e+22"
            ]
          },
          "metadata": {},
          "execution_count": 5
        }
      ]
    },
    {
      "cell_type": "code",
      "source": [
        "n_a=(5.3853430736539366e+22)*4 \n",
        "n_a"
      ],
      "metadata": {
        "colab": {
          "base_uri": "https://localhost:8080/"
        },
        "id": "scH9PJzZJVv6",
        "outputId": "3df5e7ae-00c5-4c76-bd9e-71f45b681282"
      },
      "execution_count": 6,
      "outputs": [
        {
          "output_type": "execute_result",
          "data": {
            "text/plain": [
              "2.1541372294615746e+23"
            ]
          },
          "metadata": {},
          "execution_count": 6
        }
      ]
    },
    {
      "cell_type": "code",
      "source": [
        "bolt(y_1, y_2, n_a)"
      ],
      "metadata": {
        "colab": {
          "base_uri": "https://localhost:8080/"
        },
        "id": "FDGkIf24MNzk",
        "outputId": "f1ad8420-69cd-4c2c-87a7-457bb82e91bc"
      },
      "execution_count": 7,
      "outputs": [
        {
          "output_type": "execute_result",
          "data": {
            "text/plain": [
              "1.9263978758520376e+22"
            ]
          },
          "metadata": {},
          "execution_count": 7
        }
      ]
    }
  ]
}