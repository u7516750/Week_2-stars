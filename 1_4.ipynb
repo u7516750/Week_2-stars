{
  "nbformat": 4,
  "nbformat_minor": 0,
  "metadata": {
    "colab": {
      "provenance": []
    },
    "kernelspec": {
      "name": "python3",
      "display_name": "Python 3"
    },
    "language_info": {
      "name": "python"
    }
  },
  "cells": [
    {
      "cell_type": "markdown",
      "source": [
        "Creating the Table for range of values"
      ],
      "metadata": {
        "id": "ELQzEAYnkX8x"
      }
    },
    {
      "cell_type": "code",
      "source": [
        "import math"
      ],
      "metadata": {
        "id": "7xW6FLT4kykC"
      },
      "execution_count": null,
      "outputs": []
    },
    {
      "cell_type": "code",
      "source": [
        "import numpy as np\n",
        "import pandas as pd\n",
        "pd.plotting.register_matplotlib_converters()\n",
        "import matplotlib.pyplot as plt\n",
        "%matplotlib inline\n",
        "import seaborn as sns"
      ],
      "metadata": {
        "id": "zMJ4H-gMlUwD"
      },
      "execution_count": null,
      "outputs": []
    },
    {
      "cell_type": "markdown",
      "source": [
        "Creating the temperature range"
      ],
      "metadata": {
        "id": "dG4l0Teepho4"
      }
    },
    {
      "cell_type": "code",
      "source": [
        "x_1 = math.pow(10, 4)\n",
        "x_2 = math.pow(10, 7)"
      ],
      "metadata": {
        "id": "Zx_7wGtalze2"
      },
      "execution_count": null,
      "outputs": []
    },
    {
      "cell_type": "code",
      "source": [
        "k=np.arange(start=x_1, stop=x_2, step=1000)\n",
        "k"
      ],
      "metadata": {
        "colab": {
          "base_uri": "https://localhost:8080/"
        },
        "id": "gEgLWevNlq-Z",
        "outputId": "eaed30ee-8d00-4f1e-c4fe-6fa4169d5ed1"
      },
      "execution_count": null,
      "outputs": [
        {
          "output_type": "execute_result",
          "data": {
            "text/plain": [
              "array([  10000.,   11000.,   12000., ..., 9997000., 9998000., 9999000.])"
            ]
          },
          "metadata": {},
          "execution_count": 107
        }
      ]
    },
    {
      "cell_type": "code",
      "source": [
        "g = pd.DataFrame(data = k)"
      ],
      "metadata": {
        "id": "Xrz-y2Avm2rW"
      },
      "execution_count": null,
      "outputs": []
    },
    {
      "cell_type": "code",
      "source": [
        "g.columns=[\"T(in Kelvin)\"]"
      ],
      "metadata": {
        "id": "q5xecK6-m9eb"
      },
      "execution_count": null,
      "outputs": []
    },
    {
      "cell_type": "markdown",
      "source": [
        "boltzman equation for N2/N1 "
      ],
      "metadata": {
        "id": "MwSQseQWprr0"
      }
    },
    {
      "cell_type": "code",
      "source": [
        "K = 8.617333*(math.pow(10, -5)) # defining the Boltzmann constant in ev/Kelvin\n",
        "K"
      ],
      "metadata": {
        "colab": {
          "base_uri": "https://localhost:8080/"
        },
        "id": "QcQaT-MoqdXF",
        "outputId": "099c9205-7323-41de-849d-9ebc9436f72c"
      },
      "execution_count": null,
      "outputs": [
        {
          "output_type": "execute_result",
          "data": {
            "text/plain": [
              "8.617333000000001e-05"
            ]
          },
          "metadata": {},
          "execution_count": 110
        }
      ]
    },
    {
      "cell_type": "code",
      "source": [
        "s_1 =(((1/4)-1)*13.6)/(K) # simpling the boltzmann equation for N2/N1\n",
        "s_1"
      ],
      "metadata": {
        "colab": {
          "base_uri": "https://localhost:8080/"
        },
        "id": "OUr0I6E9nLm7",
        "outputId": "635f3ee7-ef71-42bd-a58c-e6a4922eba09"
      },
      "execution_count": null,
      "outputs": [
        {
          "output_type": "execute_result",
          "data": {
            "text/plain": [
              "-118366.08844058827"
            ]
          },
          "metadata": {},
          "execution_count": 111
        }
      ]
    },
    {
      "cell_type": "code",
      "source": [
        "g['N2/ N1'] = 4* (np.exp(s_1/ g[\"T(in Kelvin)\"]))"
      ],
      "metadata": {
        "id": "tN4lLsKin3OW"
      },
      "execution_count": null,
      "outputs": []
    },
    {
      "cell_type": "code",
      "source": [
        "g"
      ],
      "metadata": {
        "colab": {
          "base_uri": "https://localhost:8080/",
          "height": 419
        },
        "id": "eYX1HDpcsRRh",
        "outputId": "2dc524dc-eeb2-4e94-ecd5-f6093d852022"
      },
      "execution_count": null,
      "outputs": [
        {
          "output_type": "execute_result",
          "data": {
            "text/plain": [
              "      T(in Kelvin)    N2/ N1\n",
              "0          10000.0  0.000029\n",
              "1          11000.0  0.000085\n",
              "2          12000.0  0.000208\n",
              "3          13000.0  0.000444\n",
              "4          14000.0  0.000852\n",
              "...            ...       ...\n",
              "9985     9995000.0  3.952909\n",
              "9986     9996000.0  3.952914\n",
              "9987     9997000.0  3.952919\n",
              "9988     9998000.0  3.952923\n",
              "9989     9999000.0  3.952928\n",
              "\n",
              "[9990 rows x 2 columns]"
            ],
            "text/html": [
              "\n",
              "  <div id=\"df-c1de1299-1f68-4f41-a4b3-c3366ce8b513\">\n",
              "    <div class=\"colab-df-container\">\n",
              "      <div>\n",
              "<style scoped>\n",
              "    .dataframe tbody tr th:only-of-type {\n",
              "        vertical-align: middle;\n",
              "    }\n",
              "\n",
              "    .dataframe tbody tr th {\n",
              "        vertical-align: top;\n",
              "    }\n",
              "\n",
              "    .dataframe thead th {\n",
              "        text-align: right;\n",
              "    }\n",
              "</style>\n",
              "<table border=\"1\" class=\"dataframe\">\n",
              "  <thead>\n",
              "    <tr style=\"text-align: right;\">\n",
              "      <th></th>\n",
              "      <th>T(in Kelvin)</th>\n",
              "      <th>N2/ N1</th>\n",
              "    </tr>\n",
              "  </thead>\n",
              "  <tbody>\n",
              "    <tr>\n",
              "      <th>0</th>\n",
              "      <td>10000.0</td>\n",
              "      <td>0.000029</td>\n",
              "    </tr>\n",
              "    <tr>\n",
              "      <th>1</th>\n",
              "      <td>11000.0</td>\n",
              "      <td>0.000085</td>\n",
              "    </tr>\n",
              "    <tr>\n",
              "      <th>2</th>\n",
              "      <td>12000.0</td>\n",
              "      <td>0.000208</td>\n",
              "    </tr>\n",
              "    <tr>\n",
              "      <th>3</th>\n",
              "      <td>13000.0</td>\n",
              "      <td>0.000444</td>\n",
              "    </tr>\n",
              "    <tr>\n",
              "      <th>4</th>\n",
              "      <td>14000.0</td>\n",
              "      <td>0.000852</td>\n",
              "    </tr>\n",
              "    <tr>\n",
              "      <th>...</th>\n",
              "      <td>...</td>\n",
              "      <td>...</td>\n",
              "    </tr>\n",
              "    <tr>\n",
              "      <th>9985</th>\n",
              "      <td>9995000.0</td>\n",
              "      <td>3.952909</td>\n",
              "    </tr>\n",
              "    <tr>\n",
              "      <th>9986</th>\n",
              "      <td>9996000.0</td>\n",
              "      <td>3.952914</td>\n",
              "    </tr>\n",
              "    <tr>\n",
              "      <th>9987</th>\n",
              "      <td>9997000.0</td>\n",
              "      <td>3.952919</td>\n",
              "    </tr>\n",
              "    <tr>\n",
              "      <th>9988</th>\n",
              "      <td>9998000.0</td>\n",
              "      <td>3.952923</td>\n",
              "    </tr>\n",
              "    <tr>\n",
              "      <th>9989</th>\n",
              "      <td>9999000.0</td>\n",
              "      <td>3.952928</td>\n",
              "    </tr>\n",
              "  </tbody>\n",
              "</table>\n",
              "<p>9990 rows × 2 columns</p>\n",
              "</div>\n",
              "      <button class=\"colab-df-convert\" onclick=\"convertToInteractive('df-c1de1299-1f68-4f41-a4b3-c3366ce8b513')\"\n",
              "              title=\"Convert this dataframe to an interactive table.\"\n",
              "              style=\"display:none;\">\n",
              "        \n",
              "  <svg xmlns=\"http://www.w3.org/2000/svg\" height=\"24px\"viewBox=\"0 0 24 24\"\n",
              "       width=\"24px\">\n",
              "    <path d=\"M0 0h24v24H0V0z\" fill=\"none\"/>\n",
              "    <path d=\"M18.56 5.44l.94 2.06.94-2.06 2.06-.94-2.06-.94-.94-2.06-.94 2.06-2.06.94zm-11 1L8.5 8.5l.94-2.06 2.06-.94-2.06-.94L8.5 2.5l-.94 2.06-2.06.94zm10 10l.94 2.06.94-2.06 2.06-.94-2.06-.94-.94-2.06-.94 2.06-2.06.94z\"/><path d=\"M17.41 7.96l-1.37-1.37c-.4-.4-.92-.59-1.43-.59-.52 0-1.04.2-1.43.59L10.3 9.45l-7.72 7.72c-.78.78-.78 2.05 0 2.83L4 21.41c.39.39.9.59 1.41.59.51 0 1.02-.2 1.41-.59l7.78-7.78 2.81-2.81c.8-.78.8-2.07 0-2.86zM5.41 20L4 18.59l7.72-7.72 1.47 1.35L5.41 20z\"/>\n",
              "  </svg>\n",
              "      </button>\n",
              "      \n",
              "  <style>\n",
              "    .colab-df-container {\n",
              "      display:flex;\n",
              "      flex-wrap:wrap;\n",
              "      gap: 12px;\n",
              "    }\n",
              "\n",
              "    .colab-df-convert {\n",
              "      background-color: #E8F0FE;\n",
              "      border: none;\n",
              "      border-radius: 50%;\n",
              "      cursor: pointer;\n",
              "      display: none;\n",
              "      fill: #1967D2;\n",
              "      height: 32px;\n",
              "      padding: 0 0 0 0;\n",
              "      width: 32px;\n",
              "    }\n",
              "\n",
              "    .colab-df-convert:hover {\n",
              "      background-color: #E2EBFA;\n",
              "      box-shadow: 0px 1px 2px rgba(60, 64, 67, 0.3), 0px 1px 3px 1px rgba(60, 64, 67, 0.15);\n",
              "      fill: #174EA6;\n",
              "    }\n",
              "\n",
              "    [theme=dark] .colab-df-convert {\n",
              "      background-color: #3B4455;\n",
              "      fill: #D2E3FC;\n",
              "    }\n",
              "\n",
              "    [theme=dark] .colab-df-convert:hover {\n",
              "      background-color: #434B5C;\n",
              "      box-shadow: 0px 1px 3px 1px rgba(0, 0, 0, 0.15);\n",
              "      filter: drop-shadow(0px 1px 2px rgba(0, 0, 0, 0.3));\n",
              "      fill: #FFFFFF;\n",
              "    }\n",
              "  </style>\n",
              "\n",
              "      <script>\n",
              "        const buttonEl =\n",
              "          document.querySelector('#df-c1de1299-1f68-4f41-a4b3-c3366ce8b513 button.colab-df-convert');\n",
              "        buttonEl.style.display =\n",
              "          google.colab.kernel.accessAllowed ? 'block' : 'none';\n",
              "\n",
              "        async function convertToInteractive(key) {\n",
              "          const element = document.querySelector('#df-c1de1299-1f68-4f41-a4b3-c3366ce8b513');\n",
              "          const dataTable =\n",
              "            await google.colab.kernel.invokeFunction('convertToInteractive',\n",
              "                                                     [key], {});\n",
              "          if (!dataTable) return;\n",
              "\n",
              "          const docLinkHtml = 'Like what you see? Visit the ' +\n",
              "            '<a target=\"_blank\" href=https://colab.research.google.com/notebooks/data_table.ipynb>data table notebook</a>'\n",
              "            + ' to learn more about interactive tables.';\n",
              "          element.innerHTML = '';\n",
              "          dataTable['output_type'] = 'display_data';\n",
              "          await google.colab.output.renderOutput(dataTable, element);\n",
              "          const docLink = document.createElement('div');\n",
              "          docLink.innerHTML = docLinkHtml;\n",
              "          element.appendChild(docLink);\n",
              "        }\n",
              "      </script>\n",
              "    </div>\n",
              "  </div>\n",
              "  "
            ]
          },
          "metadata": {},
          "execution_count": 113
        }
      ]
    },
    {
      "cell_type": "code",
      "source": [
        "plt.title(\"Trend of N2/N1 over Temperature\")\n",
        "sns.lineplot(data= g[\"N2/ N1\"])\n",
        "plt.xlabel(\"Temperature in Kelvin\")"
      ],
      "metadata": {
        "colab": {
          "base_uri": "https://localhost:8080/",
          "height": 312
        },
        "id": "BLt7QcRrn4tt",
        "outputId": "a14ca742-3a71-4d05-ff77-c53e8765eaff"
      },
      "execution_count": null,
      "outputs": [
        {
          "output_type": "execute_result",
          "data": {
            "text/plain": [
              "Text(0.5, 0, 'Temperature in Kelvin')"
            ]
          },
          "metadata": {},
          "execution_count": 114
        },
        {
          "output_type": "display_data",
          "data": {
            "text/plain": [
              "<Figure size 432x288 with 1 Axes>"
            ],
            "image/png": "[encoded data removed]"
          },
          "metadata": {
            "needs_background": "light"
          }
        }
      ]
    },
    {
      "cell_type": "markdown",
      "source": [
        "Similarly, let's work on N3/N1, N4/ N1"
      ],
      "metadata": {
        "id": "4UnFoZ5Sxwsp"
      }
    },
    {
      "cell_type": "code",
      "source": [
        "p = (1/9)-1\n",
        "s_2 =(p*13.6)/K # simplifying Boltazmann equation for N3/N1\n",
        "s_2"
      ],
      "metadata": {
        "colab": {
          "base_uri": "https://localhost:8080/"
        },
        "id": "ObkYuV5hv-C8",
        "outputId": "03df2033-af7f-4aaf-c22d-919a8eee0b31"
      },
      "execution_count": null,
      "outputs": [
        {
          "output_type": "execute_result",
          "data": {
            "text/plain": [
              "-140285.7344481046"
            ]
          },
          "metadata": {},
          "execution_count": 115
        }
      ]
    },
    {
      "cell_type": "code",
      "source": [
        "g['N3/ N1'] = 9* (np.exp(s_2/ g[\"T(in Kelvin)\"]))"
      ],
      "metadata": {
        "id": "oaCM_L2KyHgj"
      },
      "execution_count": null,
      "outputs": []
    },
    {
      "cell_type": "code",
      "source": [
        "q = (1/16)-1\n",
        "s_3 =(q*13.6)/K # simplifying Boltazmann equation for N4/N1\n",
        "s_3"
      ],
      "metadata": {
        "colab": {
          "base_uri": "https://localhost:8080/"
        },
        "id": "rE9dNLJDy9-g",
        "outputId": "fc3fee0e-42d0-455d-8d19-a21b5a6016bf"
      },
      "execution_count": null,
      "outputs": [
        {
          "output_type": "execute_result",
          "data": {
            "text/plain": [
              "-147957.61055073535"
            ]
          },
          "metadata": {},
          "execution_count": 117
        }
      ]
    },
    {
      "cell_type": "code",
      "source": [
        "g['N4/ N1'] = 16* (np.exp(s_3/ g[\"T(in Kelvin)\"]))"
      ],
      "metadata": {
        "id": "mgJJQGd_zGP-"
      },
      "execution_count": null,
      "outputs": []
    },
    {
      "cell_type": "code",
      "source": [
        "g.head()"
      ],
      "metadata": {
        "colab": {
          "base_uri": "https://localhost:8080/",
          "height": 204
        },
        "id": "9Lv3wqX-zVgF",
        "outputId": "02a3daab-1b83-4c73-ad92-9fb38c965903"
      },
      "execution_count": null,
      "outputs": [
        {
          "output_type": "execute_result",
          "data": {
            "text/plain": [
              "   T(in Kelvin)    N2/ N1    N3/ N1    N4/ N1\n",
              "0       10000.0  0.000029  0.000007  0.000006\n",
              "1       11000.0  0.000085  0.000026  0.000023\n",
              "2       12000.0  0.000208  0.000075  0.000071\n",
              "3       13000.0  0.000444  0.000185  0.000182\n",
              "4       14000.0  0.000852  0.000400  0.000411"
            ],
            "text/html": [
              "\n",
              "  <div id=\"df-d34b6483-052f-498c-9691-d2357555d183\">\n",
              "    <div class=\"colab-df-container\">\n",
              "      <div>\n",
              "<style scoped>\n",
              "    .dataframe tbody tr th:only-of-type {\n",
              "        vertical-align: middle;\n",
              "    }\n",
              "\n",
              "    .dataframe tbody tr th {\n",
              "        vertical-align: top;\n",
              "    }\n",
              "\n",
              "    .dataframe thead th {\n",
              "        text-align: right;\n",
              "    }\n",
              "</style>\n",
              "<table border=\"1\" class=\"dataframe\">\n",
              "  <thead>\n",
              "    <tr style=\"text-align: right;\">\n",
              "      <th></th>\n",
              "      <th>T(in Kelvin)</th>\n",
              "      <th>N2/ N1</th>\n",
              "      <th>N3/ N1</th>\n",
              "      <th>N4/ N1</th>\n",
              "    </tr>\n",
              "  </thead>\n",
              "  <tbody>\n",
              "    <tr>\n",
              "      <th>0</th>\n",
              "      <td>10000.0</td>\n",
              "      <td>0.000029</td>\n",
              "      <td>0.000007</td>\n",
              "      <td>0.000006</td>\n",
              "    </tr>\n",
              "    <tr>\n",
              "      <th>1</th>\n",
              "      <td>11000.0</td>\n",
              "      <td>0.000085</td>\n",
              "      <td>0.000026</td>\n",
              "      <td>0.000023</td>\n",
              "    </tr>\n",
              "    <tr>\n",
              "      <th>2</th>\n",
              "      <td>12000.0</td>\n",
              "      <td>0.000208</td>\n",
              "      <td>0.000075</td>\n",
              "      <td>0.000071</td>\n",
              "    </tr>\n",
              "    <tr>\n",
              "      <th>3</th>\n",
              "      <td>13000.0</td>\n",
              "      <td>0.000444</td>\n",
              "      <td>0.000185</td>\n",
              "      <td>0.000182</td>\n",
              "    </tr>\n",
              "    <tr>\n",
              "      <th>4</th>\n",
              "      <td>14000.0</td>\n",
              "      <td>0.000852</td>\n",
              "      <td>0.000400</td>\n",
              "      <td>0.000411</td>\n",
              "    </tr>\n",
              "  </tbody>\n",
              "</table>\n",
              "</div>\n",
              "      <button class=\"colab-df-convert\" onclick=\"convertToInteractive('df-d34b6483-052f-498c-9691-d2357555d183')\"\n",
              "              title=\"Convert this dataframe to an interactive table.\"\n",
              "              style=\"display:none;\">\n",
              "        \n",
              "  <svg xmlns=\"http://www.w3.org/2000/svg\" height=\"24px\"viewBox=\"0 0 24 24\"\n",
              "       width=\"24px\">\n",
              "    <path d=\"M0 0h24v24H0V0z\" fill=\"none\"/>\n",
              "    <path d=\"M18.56 5.44l.94 2.06.94-2.06 2.06-.94-2.06-.94-.94-2.06-.94 2.06-2.06.94zm-11 1L8.5 8.5l.94-2.06 2.06-.94-2.06-.94L8.5 2.5l-.94 2.06-2.06.94zm10 10l.94 2.06.94-2.06 2.06-.94-2.06-.94-.94-2.06-.94 2.06-2.06.94z\"/><path d=\"M17.41 7.96l-1.37-1.37c-.4-.4-.92-.59-1.43-.59-.52 0-1.04.2-1.43.59L10.3 9.45l-7.72 7.72c-.78.78-.78 2.05 0 2.83L4 21.41c.39.39.9.59 1.41.59.51 0 1.02-.2 1.41-.59l7.78-7.78 2.81-2.81c.8-.78.8-2.07 0-2.86zM5.41 20L4 18.59l7.72-7.72 1.47 1.35L5.41 20z\"/>\n",
              "  </svg>\n",
              "      </button>\n",
              "      \n",
              "  <style>\n",
              "    .colab-df-container {\n",
              "      display:flex;\n",
              "      flex-wrap:wrap;\n",
              "      gap: 12px;\n",
              "    }\n",
              "\n",
              "    .colab-df-convert {\n",
              "      background-color: #E8F0FE;\n",
              "      border: none;\n",
              "      border-radius: 50%;\n",
              "      cursor: pointer;\n",
              "      display: none;\n",
              "      fill: #1967D2;\n",
              "      height: 32px;\n",
              "      padding: 0 0 0 0;\n",
              "      width: 32px;\n",
              "    }\n",
              "\n",
              "    .colab-df-convert:hover {\n",
              "      background-color: #E2EBFA;\n",
              "      box-shadow: 0px 1px 2px rgba(60, 64, 67, 0.3), 0px 1px 3px 1px rgba(60, 64, 67, 0.15);\n",
              "      fill: #174EA6;\n",
              "    }\n",
              "\n",
              "    [theme=dark] .colab-df-convert {\n",
              "      background-color: #3B4455;\n",
              "      fill: #D2E3FC;\n",
              "    }\n",
              "\n",
              "    [theme=dark] .colab-df-convert:hover {\n",
              "      background-color: #434B5C;\n",
              "      box-shadow: 0px 1px 3px 1px rgba(0, 0, 0, 0.15);\n",
              "      filter: drop-shadow(0px 1px 2px rgba(0, 0, 0, 0.3));\n",
              "      fill: #FFFFFF;\n",
              "    }\n",
              "  </style>\n",
              "\n",
              "      <script>\n",
              "        const buttonEl =\n",
              "          document.querySelector('#df-d34b6483-052f-498c-9691-d2357555d183 button.colab-df-convert');\n",
              "        buttonEl.style.display =\n",
              "          google.colab.kernel.accessAllowed ? 'block' : 'none';\n",
              "\n",
              "        async function convertToInteractive(key) {\n",
              "          const element = document.querySelector('#df-d34b6483-052f-498c-9691-d2357555d183');\n",
              "          const dataTable =\n",
              "            await google.colab.kernel.invokeFunction('convertToInteractive',\n",
              "                                                     [key], {});\n",
              "          if (!dataTable) return;\n",
              "\n",
              "          const docLinkHtml = 'Like what you see? Visit the ' +\n",
              "            '<a target=\"_blank\" href=https://colab.research.google.com/notebooks/data_table.ipynb>data table notebook</a>'\n",
              "            + ' to learn more about interactive tables.';\n",
              "          element.innerHTML = '';\n",
              "          dataTable['output_type'] = 'display_data';\n",
              "          await google.colab.output.renderOutput(dataTable, element);\n",
              "          const docLink = document.createElement('div');\n",
              "          docLink.innerHTML = docLinkHtml;\n",
              "          element.appendChild(docLink);\n",
              "        }\n",
              "      </script>\n",
              "    </div>\n",
              "  </div>\n",
              "  "
            ]
          },
          "metadata": {},
          "execution_count": 119
        }
      ]
    },
    {
      "cell_type": "code",
      "source": [
        "g.tail()"
      ],
      "metadata": {
        "colab": {
          "base_uri": "https://localhost:8080/",
          "height": 204
        },
        "id": "s0Hi6R9F1UBw",
        "outputId": "7e5567b0-d1ec-4ae6-d8ba-f4ed6396ba44"
      },
      "execution_count": null,
      "outputs": [
        {
          "output_type": "execute_result",
          "data": {
            "text/plain": [
              "      T(in Kelvin)    N2/ N1    N3/ N1     N4/ N1\n",
              "9985     9995000.0  3.952909  8.874562  15.764894\n",
              "9986     9996000.0  3.952914  8.874574  15.764917\n",
              "9987     9997000.0  3.952919  8.874587  15.764941\n",
              "9988     9998000.0  3.952923  8.874599  15.764964\n",
              "9989     9999000.0  3.952928  8.874612  15.764987"
            ],
            "text/html": [
              "\n",
              "  <div id=\"df-1f966faa-0ec1-4ac6-a22a-b12034ad6404\">\n",
              "    <div class=\"colab-df-container\">\n",
              "      <div>\n",
              "<style scoped>\n",
              "    .dataframe tbody tr th:only-of-type {\n",
              "        vertical-align: middle;\n",
              "    }\n",
              "\n",
              "    .dataframe tbody tr th {\n",
              "        vertical-align: top;\n",
              "    }\n",
              "\n",
              "    .dataframe thead th {\n",
              "        text-align: right;\n",
              "    }\n",
              "</style>\n",
              "<table border=\"1\" class=\"dataframe\">\n",
              "  <thead>\n",
              "    <tr style=\"text-align: right;\">\n",
              "      <th></th>\n",
              "      <th>T(in Kelvin)</th>\n",
              "      <th>N2/ N1</th>\n",
              "      <th>N3/ N1</th>\n",
              "      <th>N4/ N1</th>\n",
              "    </tr>\n",
              "  </thead>\n",
              "  <tbody>\n",
              "    <tr>\n",
              "      <th>9985</th>\n",
              "      <td>9995000.0</td>\n",
              "      <td>3.952909</td>\n",
              "      <td>8.874562</td>\n",
              "      <td>15.764894</td>\n",
              "    </tr>\n",
              "    <tr>\n",
              "      <th>9986</th>\n",
              "      <td>9996000.0</td>\n",
              "      <td>3.952914</td>\n",
              "      <td>8.874574</td>\n",
              "      <td>15.764917</td>\n",
              "    </tr>\n",
              "    <tr>\n",
              "      <th>9987</th>\n",
              "      <td>9997000.0</td>\n",
              "      <td>3.952919</td>\n",
              "      <td>8.874587</td>\n",
              "      <td>15.764941</td>\n",
              "    </tr>\n",
              "    <tr>\n",
              "      <th>9988</th>\n",
              "      <td>9998000.0</td>\n",
              "      <td>3.952923</td>\n",
              "      <td>8.874599</td>\n",
              "      <td>15.764964</td>\n",
              "    </tr>\n",
              "    <tr>\n",
              "      <th>9989</th>\n",
              "      <td>9999000.0</td>\n",
              "      <td>3.952928</td>\n",
              "      <td>8.874612</td>\n",
              "      <td>15.764987</td>\n",
              "    </tr>\n",
              "  </tbody>\n",
              "</table>\n",
              "</div>\n",
              "      <button class=\"colab-df-convert\" onclick=\"convertToInteractive('df-1f966faa-0ec1-4ac6-a22a-b12034ad6404')\"\n",
              "              title=\"Convert this dataframe to an interactive table.\"\n",
              "              style=\"display:none;\">\n",
              "        \n",
              "  <svg xmlns=\"http://www.w3.org/2000/svg\" height=\"24px\"viewBox=\"0 0 24 24\"\n",
              "       width=\"24px\">\n",
              "    <path d=\"M0 0h24v24H0V0z\" fill=\"none\"/>\n",
              "    <path d=\"M18.56 5.44l.94 2.06.94-2.06 2.06-.94-2.06-.94-.94-2.06-.94 2.06-2.06.94zm-11 1L8.5 8.5l.94-2.06 2.06-.94-2.06-.94L8.5 2.5l-.94 2.06-2.06.94zm10 10l.94 2.06.94-2.06 2.06-.94-2.06-.94-.94-2.06-.94 2.06-2.06.94z\"/><path d=\"M17.41 7.96l-1.37-1.37c-.4-.4-.92-.59-1.43-.59-.52 0-1.04.2-1.43.59L10.3 9.45l-7.72 7.72c-.78.78-.78 2.05 0 2.83L4 21.41c.39.39.9.59 1.41.59.51 0 1.02-.2 1.41-.59l7.78-7.78 2.81-2.81c.8-.78.8-2.07 0-2.86zM5.41 20L4 18.59l7.72-7.72 1.47 1.35L5.41 20z\"/>\n",
              "  </svg>\n",
              "      </button>\n",
              "      \n",
              "  <style>\n",
              "    .colab-df-container {\n",
              "      display:flex;\n",
              "      flex-wrap:wrap;\n",
              "      gap: 12px;\n",
              "    }\n",
              "\n",
              "    .colab-df-convert {\n",
              "      background-color: #E8F0FE;\n",
              "      border: none;\n",
              "      border-radius: 50%;\n",
              "      cursor: pointer;\n",
              "      display: none;\n",
              "      fill: #1967D2;\n",
              "      height: 32px;\n",
              "      padding: 0 0 0 0;\n",
              "      width: 32px;\n",
              "    }\n",
              "\n",
              "    .colab-df-convert:hover {\n",
              "      background-color: #E2EBFA;\n",
              "      box-shadow: 0px 1px 2px rgba(60, 64, 67, 0.3), 0px 1px 3px 1px rgba(60, 64, 67, 0.15);\n",
              "      fill: #174EA6;\n",
              "    }\n",
              "\n",
              "    [theme=dark] .colab-df-convert {\n",
              "      background-color: #3B4455;\n",
              "      fill: #D2E3FC;\n",
              "    }\n",
              "\n",
              "    [theme=dark] .colab-df-convert:hover {\n",
              "      background-color: #434B5C;\n",
              "      box-shadow: 0px 1px 3px 1px rgba(0, 0, 0, 0.15);\n",
              "      filter: drop-shadow(0px 1px 2px rgba(0, 0, 0, 0.3));\n",
              "      fill: #FFFFFF;\n",
              "    }\n",
              "  </style>\n",
              "\n",
              "      <script>\n",
              "        const buttonEl =\n",
              "          document.querySelector('#df-1f966faa-0ec1-4ac6-a22a-b12034ad6404 button.colab-df-convert');\n",
              "        buttonEl.style.display =\n",
              "          google.colab.kernel.accessAllowed ? 'block' : 'none';\n",
              "\n",
              "        async function convertToInteractive(key) {\n",
              "          const element = document.querySelector('#df-1f966faa-0ec1-4ac6-a22a-b12034ad6404');\n",
              "          const dataTable =\n",
              "            await google.colab.kernel.invokeFunction('convertToInteractive',\n",
              "                                                     [key], {});\n",
              "          if (!dataTable) return;\n",
              "\n",
              "          const docLinkHtml = 'Like what you see? Visit the ' +\n",
              "            '<a target=\"_blank\" href=https://colab.research.google.com/notebooks/data_table.ipynb>data table notebook</a>'\n",
              "            + ' to learn more about interactive tables.';\n",
              "          element.innerHTML = '';\n",
              "          dataTable['output_type'] = 'display_data';\n",
              "          await google.colab.output.renderOutput(dataTable, element);\n",
              "          const docLink = document.createElement('div');\n",
              "          docLink.innerHTML = docLinkHtml;\n",
              "          element.appendChild(docLink);\n",
              "        }\n",
              "      </script>\n",
              "    </div>\n",
              "  </div>\n",
              "  "
            ]
          },
          "metadata": {},
          "execution_count": 120
        }
      ]
    },
    {
      "cell_type": "markdown",
      "source": [
        "Plotting the trends of Ratios using lineplot"
      ],
      "metadata": {
        "id": "GzaFpFna1Bmg"
      }
    },
    {
      "cell_type": "code",
      "source": [
        "plt.figure(figsize= (14, 8))\n",
        "plt.title(\"Trends of N2/N1, N3/N1, N4/N1 over Temperature\")\n",
        "sns.lineplot(data= g[\"N2/ N1\"], label=\"N2/ N1\")\n",
        "sns.lineplot(data= g[\"N3/ N1\"], label=\"N3/ N1\")\n",
        "sns.lineplot(data= g[\"N4/ N1\"], label=\"N4/ N1\")\n",
        "#Temperature in Kelvin and divided by a factor of 1000)\n",
        "plt.xlabel(\"(Temperature / 1000) K\")"
      ],
      "metadata": {
        "colab": {
          "base_uri": "https://localhost:8080/",
          "height": 530
        },
        "id": "8w2oEDPmzWVd",
        "outputId": "68f5dc75-d1d4-440e-93f9-d098a20f0698"
      },
      "execution_count": null,
      "outputs": [
        {
          "output_type": "execute_result",
          "data": {
            "text/plain": [
              "Text(0.5, 0, '(Temperature / 1000) K')"
            ]
          },
          "metadata": {},
          "execution_count": 126
        },
        {
          "output_type": "display_data",
          "data": {
            "text/plain": [
              "<Figure size 1008x576 with 1 Axes>"
            ],
            "image/png": "[encoded data removed]"
          },
          "metadata": {
            "needs_background": "light"
          }
        }
      ]
    },
    {
      "cell_type": "markdown",
      "source": [
        "Checking the corelation between ratios and temperature"
      ],
      "metadata": {
        "id": "DQQxuPg35qps"
      }
    },
    {
      "cell_type": "code",
      "source": [
        "plt.figure(figsize= (14, 6))\n",
        "plt.title(\"Checking the corelation between ratio and temperature \")\n",
        "sns.regplot(x = g['T(in Kelvin)'], y = g['N2/ N1'], label=\"N2/ N1\")\n",
        "sns.regplot(x = g['T(in Kelvin)'], y = g['N3/ N1'], label=\"N3/ N1\")\n",
        "sns.regplot(x = g['T(in Kelvin)'], y = g['N4/ N1'], label=\"N4/ N1\")\n",
        "plt.xlabel(\"(T/ 10^7) Kelvin \")"
      ],
      "metadata": {
        "colab": {
          "base_uri": "https://localhost:8080/",
          "height": 421
        },
        "id": "JgiLOigG5kP6",
        "outputId": "52a0d4b1-f110-46a3-a4fe-9722c679bd0c"
      },
      "execution_count": null,
      "outputs": [
        {
          "output_type": "execute_result",
          "data": {
            "text/plain": [
              "Text(0.5, 0, '(T/ 10^7) Kelvin ')"
            ]
          },
          "metadata": {},
          "execution_count": 140
        },
        {
          "output_type": "display_data",
          "data": {
            "text/plain": [
              "<Figure size 1008x432 with 1 Axes>"
            ],
            "image/png": "[encoded data removed]"
          },
          "metadata": {
            "needs_background": "light"
          }
        }
      ]
    },
    {
      "cell_type": "code",
      "source": [
        "sns.regplot(x = g['T(in Kelvin)'], y = g['N3/ N1'])"
      ],
      "metadata": {
        "colab": {
          "base_uri": "https://localhost:8080/",
          "height": 296
        },
        "id": "5QMN2Sio4l0z",
        "outputId": "62b994d9-531d-4c7f-f7a0-0594680685ec"
      },
      "execution_count": null,
      "outputs": [
        {
          "output_type": "execute_result",
          "data": {
            "text/plain": [
              "<AxesSubplot:xlabel='T(in Kelvin)', ylabel='N3/ N1'>"
            ]
          },
          "metadata": {},
          "execution_count": 130
        },
        {
          "output_type": "display_data",
          "data": {
            "text/plain": [
              "<Figure size 432x288 with 1 Axes>"
            ],
            "image/png": "[encoded data removed]"
          },
          "metadata": {
            "needs_background": "light"
          }
        }
      ]
    },
    {
      "cell_type": "code",
      "source": [
        "sns.regplot(x = g['T(in Kelvin)'], y = g['N4/ N1'])"
      ],
      "metadata": {
        "colab": {
          "base_uri": "https://localhost:8080/",
          "height": 298
        },
        "id": "L7_TjLSL6Tqx",
        "outputId": "d7405c04-d154-4cbd-8ca7-4219a6127aa9"
      },
      "execution_count": null,
      "outputs": [
        {
          "output_type": "execute_result",
          "data": {
            "text/plain": [
              "<AxesSubplot:xlabel='T(in Kelvin)', ylabel='N4/ N1'>"
            ]
          },
          "metadata": {},
          "execution_count": 131
        },
        {
          "output_type": "display_data",
          "data": {
            "text/plain": [
              "<Figure size 432x288 with 1 Axes>"
            ],
            "image/png": "[encoded data removed]"
          },
          "metadata": {
            "needs_background": "light"
          }
        }
      ]
    },
    {
      "cell_type": "code",
      "source": [
        "g.head()"
      ],
      "metadata": {
        "colab": {
          "base_uri": "https://localhost:8080/",
          "height": 204
        },
        "id": "glFDvBTi-XZq",
        "outputId": "d4fc57ed-bfa5-4dc8-e2b5-fefa05b3e6e6"
      },
      "execution_count": null,
      "outputs": [
        {
          "output_type": "execute_result",
          "data": {
            "text/plain": [
              "   T(in Kelvin)    N2/ N1    N3/ N1    N4/ N1\n",
              "0       10000.0  0.000029  0.000007  0.000006\n",
              "1       11000.0  0.000085  0.000026  0.000023\n",
              "2       12000.0  0.000208  0.000075  0.000071\n",
              "3       13000.0  0.000444  0.000185  0.000182\n",
              "4       14000.0  0.000852  0.000400  0.000411"
            ],
            "text/html": [
              "\n",
              "  <div id=\"df-7c11f6c5-d5a8-4059-8ab8-d14298fca86f\">\n",
              "    <div class=\"colab-df-container\">\n",
              "      <div>\n",
              "<style scoped>\n",
              "    .dataframe tbody tr th:only-of-type {\n",
              "        vertical-align: middle;\n",
              "    }\n",
              "\n",
              "    .dataframe tbody tr th {\n",
              "        vertical-align: top;\n",
              "    }\n",
              "\n",
              "    .dataframe thead th {\n",
              "        text-align: right;\n",
              "    }\n",
              "</style>\n",
              "<table border=\"1\" class=\"dataframe\">\n",
              "  <thead>\n",
              "    <tr style=\"text-align: right;\">\n",
              "      <th></th>\n",
              "      <th>T(in Kelvin)</th>\n",
              "      <th>N2/ N1</th>\n",
              "      <th>N3/ N1</th>\n",
              "      <th>N4/ N1</th>\n",
              "    </tr>\n",
              "  </thead>\n",
              "  <tbody>\n",
              "    <tr>\n",
              "      <th>0</th>\n",
              "      <td>10000.0</td>\n",
              "      <td>0.000029</td>\n",
              "      <td>0.000007</td>\n",
              "      <td>0.000006</td>\n",
              "    </tr>\n",
              "    <tr>\n",
              "      <th>1</th>\n",
              "      <td>11000.0</td>\n",
              "      <td>0.000085</td>\n",
              "      <td>0.000026</td>\n",
              "      <td>0.000023</td>\n",
              "    </tr>\n",
              "    <tr>\n",
              "      <th>2</th>\n",
              "      <td>12000.0</td>\n",
              "      <td>0.000208</td>\n",
              "      <td>0.000075</td>\n",
              "      <td>0.000071</td>\n",
              "    </tr>\n",
              "    <tr>\n",
              "      <th>3</th>\n",
              "      <td>13000.0</td>\n",
              "      <td>0.000444</td>\n",
              "      <td>0.000185</td>\n",
              "      <td>0.000182</td>\n",
              "    </tr>\n",
              "    <tr>\n",
              "      <th>4</th>\n",
              "      <td>14000.0</td>\n",
              "      <td>0.000852</td>\n",
              "      <td>0.000400</td>\n",
              "      <td>0.000411</td>\n",
              "    </tr>\n",
              "  </tbody>\n",
              "</table>\n",
              "</div>\n",
              "      <button class=\"colab-df-convert\" onclick=\"convertToInteractive('df-7c11f6c5-d5a8-4059-8ab8-d14298fca86f')\"\n",
              "              title=\"Convert this dataframe to an interactive table.\"\n",
              "              style=\"display:none;\">\n",
              "        \n",
              "  <svg xmlns=\"http://www.w3.org/2000/svg\" height=\"24px\"viewBox=\"0 0 24 24\"\n",
              "       width=\"24px\">\n",
              "    <path d=\"M0 0h24v24H0V0z\" fill=\"none\"/>\n",
              "    <path d=\"M18.56 5.44l.94 2.06.94-2.06 2.06-.94-2.06-.94-.94-2.06-.94 2.06-2.06.94zm-11 1L8.5 8.5l.94-2.06 2.06-.94-2.06-.94L8.5 2.5l-.94 2.06-2.06.94zm10 10l.94 2.06.94-2.06 2.06-.94-2.06-.94-.94-2.06-.94 2.06-2.06.94z\"/><path d=\"M17.41 7.96l-1.37-1.37c-.4-.4-.92-.59-1.43-.59-.52 0-1.04.2-1.43.59L10.3 9.45l-7.72 7.72c-.78.78-.78 2.05 0 2.83L4 21.41c.39.39.9.59 1.41.59.51 0 1.02-.2 1.41-.59l7.78-7.78 2.81-2.81c.8-.78.8-2.07 0-2.86zM5.41 20L4 18.59l7.72-7.72 1.47 1.35L5.41 20z\"/>\n",
              "  </svg>\n",
              "      </button>\n",
              "      \n",
              "  <style>\n",
              "    .colab-df-container {\n",
              "      display:flex;\n",
              "      flex-wrap:wrap;\n",
              "      gap: 12px;\n",
              "    }\n",
              "\n",
              "    .colab-df-convert {\n",
              "      background-color: #E8F0FE;\n",
              "      border: none;\n",
              "      border-radius: 50%;\n",
              "      cursor: pointer;\n",
              "      display: none;\n",
              "      fill: #1967D2;\n",
              "      height: 32px;\n",
              "      padding: 0 0 0 0;\n",
              "      width: 32px;\n",
              "    }\n",
              "\n",
              "    .colab-df-convert:hover {\n",
              "      background-color: #E2EBFA;\n",
              "      box-shadow: 0px 1px 2px rgba(60, 64, 67, 0.3), 0px 1px 3px 1px rgba(60, 64, 67, 0.15);\n",
              "      fill: #174EA6;\n",
              "    }\n",
              "\n",
              "    [theme=dark] .colab-df-convert {\n",
              "      background-color: #3B4455;\n",
              "      fill: #D2E3FC;\n",
              "    }\n",
              "\n",
              "    [theme=dark] .colab-df-convert:hover {\n",
              "      background-color: #434B5C;\n",
              "      box-shadow: 0px 1px 3px 1px rgba(0, 0, 0, 0.15);\n",
              "      filter: drop-shadow(0px 1px 2px rgba(0, 0, 0, 0.3));\n",
              "      fill: #FFFFFF;\n",
              "    }\n",
              "  </style>\n",
              "\n",
              "      <script>\n",
              "        const buttonEl =\n",
              "          document.querySelector('#df-7c11f6c5-d5a8-4059-8ab8-d14298fca86f button.colab-df-convert');\n",
              "        buttonEl.style.display =\n",
              "          google.colab.kernel.accessAllowed ? 'block' : 'none';\n",
              "\n",
              "        async function convertToInteractive(key) {\n",
              "          const element = document.querySelector('#df-7c11f6c5-d5a8-4059-8ab8-d14298fca86f');\n",
              "          const dataTable =\n",
              "            await google.colab.kernel.invokeFunction('convertToInteractive',\n",
              "                                                     [key], {});\n",
              "          if (!dataTable) return;\n",
              "\n",
              "          const docLinkHtml = 'Like what you see? Visit the ' +\n",
              "            '<a target=\"_blank\" href=https://colab.research.google.com/notebooks/data_table.ipynb>data table notebook</a>'\n",
              "            + ' to learn more about interactive tables.';\n",
              "          element.innerHTML = '';\n",
              "          dataTable['output_type'] = 'display_data';\n",
              "          await google.colab.output.renderOutput(dataTable, element);\n",
              "          const docLink = document.createElement('div');\n",
              "          docLink.innerHTML = docLinkHtml;\n",
              "          element.appendChild(docLink);\n",
              "        }\n",
              "      </script>\n",
              "    </div>\n",
              "  </div>\n",
              "  "
            ]
          },
          "metadata": {},
          "execution_count": 144
        }
      ]
    },
    {
      "cell_type": "code",
      "source": [
        "g.columns =['T', 'N_2', 'N_3', 'N_4']"
      ],
      "metadata": {
        "id": "3G0kA6oX6W-4"
      },
      "execution_count": null,
      "outputs": []
    },
    {
      "cell_type": "code",
      "source": [
        "g[g.N_3 <1.2]"
      ],
      "metadata": {
        "colab": {
          "base_uri": "https://localhost:8080/",
          "height": 1000
        },
        "id": "kEgJJEtq-Kfu",
        "outputId": "a476b4aa-2278-4bc1-e51c-5b885a2becb2"
      },
      "execution_count": null,
      "outputs": [
        {
          "output_type": "execute_result",
          "data": {
            "text/plain": [
              "          T       N_2       N_3       N_4\n",
              "0   10000.0  0.000029  0.000007  0.000006\n",
              "1   11000.0  0.000085  0.000026  0.000023\n",
              "2   12000.0  0.000208  0.000075  0.000071\n",
              "3   13000.0  0.000444  0.000185  0.000182\n",
              "4   14000.0  0.000852  0.000400  0.000411\n",
              "5   15000.0  0.001496  0.000781  0.000832\n",
              "6   16000.0  0.002450  0.001401  0.001542\n",
              "7   17000.0  0.003786  0.002346  0.002656\n",
              "8   18000.0  0.005574  0.003711  0.004308\n",
              "9   19000.0  0.007879  0.005593  0.006640\n",
              "10  20000.0  0.010759  0.008091  0.009801\n",
              "11  21000.0  0.014262  0.011299  0.013940\n",
              "12  22000.0  0.018426  0.015308  0.019202\n",
              "13  23000.0  0.023282  0.020198  0.025723\n",
              "14  24000.0  0.028851  0.026043  0.033631\n",
              "15  25000.0  0.035142  0.032903  0.043036\n",
              "16  26000.0  0.042162  0.040828  0.054037\n",
              "17  27000.0  0.049905  0.049860  0.066715\n",
              "18  28000.0  0.058363  0.060026  0.081137\n",
              "19  29000.0  0.067522  0.071346  0.097354\n",
              "20  30000.0  0.077363  0.083830  0.115402\n",
              "21  31000.0  0.087864  0.097479  0.135303\n",
              "22  32000.0  0.098999  0.112286  0.157066\n",
              "23  33000.0  0.110741  0.128239  0.180689\n",
              "24  34000.0  0.123063  0.145319  0.206159\n",
              "25  35000.0  0.135933  0.163500  0.233454\n",
              "26  36000.0  0.149322  0.182756  0.262542\n",
              "27  37000.0  0.163198  0.203054  0.293386\n",
              "28  38000.0  0.177532  0.224360  0.325943\n",
              "29  39000.0  0.192293  0.246635  0.360164\n",
              "30  40000.0  0.207451  0.269842  0.395996\n",
              "31  41000.0  0.222978  0.293940  0.433383\n",
              "32  42000.0  0.238844  0.318889  0.472267\n",
              "33  43000.0  0.255022  0.344647  0.512586\n",
              "34  44000.0  0.271486  0.371173  0.554281\n",
              "35  45000.0  0.288211  0.398425  0.597287\n",
              "36  46000.0  0.305171  0.426363  0.641542\n",
              "37  47000.0  0.322345  0.454945  0.686983\n",
              "38  48000.0  0.339709  0.484133  0.733549\n",
              "39  49000.0  0.357243  0.513888  0.781176\n",
              "40  50000.0  0.374926  0.544172  0.829806\n",
              "41  51000.0  0.392739  0.574948  0.879378\n",
              "42  52000.0  0.410665  0.606180  0.929833\n",
              "43  53000.0  0.428687  0.637835  0.981116\n",
              "44  54000.0  0.446788  0.669878  1.033171\n",
              "45  55000.0  0.464954  0.702279  1.085945\n",
              "46  56000.0  0.483170  0.735005  1.139385\n",
              "47  57000.0  0.501424  0.768028  1.193442\n",
              "48  58000.0  0.519702  0.801320  1.248066\n",
              "49  59000.0  0.537993  0.834853  1.303213\n",
              "50  60000.0  0.556285  0.868601  1.358836\n",
              "51  61000.0  0.574570  0.902541  1.414893\n",
              "52  62000.0  0.592837  0.936647  1.471343\n",
              "53  63000.0  0.611077  0.970899  1.528146\n",
              "54  64000.0  0.629282  1.005274  1.585264\n",
              "55  65000.0  0.647444  1.039752  1.642661\n",
              "56  66000.0  0.665557  1.074315  1.700303\n",
              "57  67000.0  0.683613  1.108943  1.758157\n",
              "58  68000.0  0.701606  1.143620  1.816191\n",
              "59  69000.0  0.719531  1.178330  1.874375"
            ],
            "text/html": [
              "\n",
              "  <div id=\"df-9b983cff-908f-49ea-b8d5-62d1b02a6cb7\">\n",
              "    <div class=\"colab-df-container\">\n",
              "      <div>\n",
              "<style scoped>\n",
              "    .dataframe tbody tr th:only-of-type {\n",
              "        vertical-align: middle;\n",
              "    }\n",
              "\n",
              "    .dataframe tbody tr th {\n",
              "        vertical-align: top;\n",
              "    }\n",
              "\n",
              "    .dataframe thead th {\n",
              "        text-align: right;\n",
              "    }\n",
              "</style>\n",
              "<table border=\"1\" class=\"dataframe\">\n",
              "  <thead>\n",
              "    <tr style=\"text-align: right;\">\n",
              "      <th></th>\n",
              "      <th>T</th>\n",
              "      <th>N_2</th>\n",
              "      <th>N_3</th>\n",
              "      <th>N_4</th>\n",
              "    </tr>\n",
              "  </thead>\n",
              "  <tbody>\n",
              "    <tr>\n",
              "      <th>0</th>\n",
              "      <td>10000.0</td>\n",
              "      <td>0.000029</td>\n",
              "      <td>0.000007</td>\n",
              "      <td>0.000006</td>\n",
              "    </tr>\n",
              "    <tr>\n",
              "      <th>1</th>\n",
              "      <td>11000.0</td>\n",
              "      <td>0.000085</td>\n",
              "      <td>0.000026</td>\n",
              "      <td>0.000023</td>\n",
              "    </tr>\n",
              "    <tr>\n",
              "      <th>2</th>\n",
              "      <td>12000.0</td>\n",
              "      <td>0.000208</td>\n",
              "      <td>0.000075</td>\n",
              "      <td>0.000071</td>\n",
              "    </tr>\n",
              "    <tr>\n",
              "      <th>3</th>\n",
              "      <td>13000.0</td>\n",
              "      <td>0.000444</td>\n",
              "      <td>0.000185</td>\n",
              "      <td>0.000182</td>\n",
              "    </tr>\n",
              "    <tr>\n",
              "      <th>4</th>\n",
              "      <td>14000.0</td>\n",
              "      <td>0.000852</td>\n",
              "      <td>0.000400</td>\n",
              "      <td>0.000411</td>\n",
              "    </tr>\n",
              "    <tr>\n",
              "      <th>5</th>\n",
              "      <td>15000.0</td>\n",
              "      <td>0.001496</td>\n",
              "      <td>0.000781</td>\n",
              "      <td>0.000832</td>\n",
              "    </tr>\n",
              "    <tr>\n",
              "      <th>6</th>\n",
              "      <td>16000.0</td>\n",
              "      <td>0.002450</td>\n",
              "      <td>0.001401</td>\n",
              "      <td>0.001542</td>\n",
              "    </tr>\n",
              "    <tr>\n",
              "      <th>7</th>\n",
              "      <td>17000.0</td>\n",
              "      <td>0.003786</td>\n",
              "      <td>0.002346</td>\n",
              "      <td>0.002656</td>\n",
              "    </tr>\n",
              "    <tr>\n",
              "      <th>8</th>\n",
              "      <td>18000.0</td>\n",
              "      <td>0.005574</td>\n",
              "      <td>0.003711</td>\n",
              "      <td>0.004308</td>\n",
              "    </tr>\n",
              "    <tr>\n",
              "      <th>9</th>\n",
              "      <td>19000.0</td>\n",
              "      <td>0.007879</td>\n",
              "      <td>0.005593</td>\n",
              "      <td>0.006640</td>\n",
              "    </tr>\n",
              "    <tr>\n",
              "      <th>10</th>\n",
              "      <td>20000.0</td>\n",
              "      <td>0.010759</td>\n",
              "      <td>0.008091</td>\n",
              "      <td>0.009801</td>\n",
              "    </tr>\n",
              "    <tr>\n",
              "      <th>11</th>\n",
              "      <td>21000.0</td>\n",
              "      <td>0.014262</td>\n",
              "      <td>0.011299</td>\n",
              "      <td>0.013940</td>\n",
              "    </tr>\n",
              "    <tr>\n",
              "      <th>12</th>\n",
              "      <td>22000.0</td>\n",
              "      <td>0.018426</td>\n",
              "      <td>0.015308</td>\n",
              "      <td>0.019202</td>\n",
              "    </tr>\n",
              "    <tr>\n",
              "      <th>13</th>\n",
              "      <td>23000.0</td>\n",
              "      <td>0.023282</td>\n",
              "      <td>0.020198</td>\n",
              "      <td>0.025723</td>\n",
              "    </tr>\n",
              "    <tr>\n",
              "      <th>14</th>\n",
              "      <td>24000.0</td>\n",
              "      <td>0.028851</td>\n",
              "      <td>0.026043</td>\n",
              "      <td>0.033631</td>\n",
              "    </tr>\n",
              "    <tr>\n",
              "      <th>15</th>\n",
              "      <td>25000.0</td>\n",
              "      <td>0.035142</td>\n",
              "      <td>0.032903</td>\n",
              "      <td>0.043036</td>\n",
              "    </tr>\n",
              "    <tr>\n",
              "      <th>16</th>\n",
              "      <td>26000.0</td>\n",
              "      <td>0.042162</td>\n",
              "      <td>0.040828</td>\n",
              "      <td>0.054037</td>\n",
              "    </tr>\n",
              "    <tr>\n",
              "      <th>17</th>\n",
              "      <td>27000.0</td>\n",
              "      <td>0.049905</td>\n",
              "      <td>0.049860</td>\n",
              "      <td>0.066715</td>\n",
              "    </tr>\n",
              "    <tr>\n",
              "      <th>18</th>\n",
              "      <td>28000.0</td>\n",
              "      <td>0.058363</td>\n",
              "      <td>0.060026</td>\n",
              "      <td>0.081137</td>\n",
              "    </tr>\n",
              "    <tr>\n",
              "      <th>19</th>\n",
              "      <td>29000.0</td>\n",
              "      <td>0.067522</td>\n",
              "      <td>0.071346</td>\n",
              "      <td>0.097354</td>\n",
              "    </tr>\n",
              "    <tr>\n",
              "      <th>20</th>\n",
              "      <td>30000.0</td>\n",
              "      <td>0.077363</td>\n",
              "      <td>0.083830</td>\n",
              "      <td>0.115402</td>\n",
              "    </tr>\n",
              "    <tr>\n",
              "      <th>21</th>\n",
              "      <td>31000.0</td>\n",
              "      <td>0.087864</td>\n",
              "      <td>0.097479</td>\n",
              "      <td>0.135303</td>\n",
              "    </tr>\n",
              "    <tr>\n",
              "      <th>22</th>\n",
              "      <td>32000.0</td>\n",
              "      <td>0.098999</td>\n",
              "      <td>0.112286</td>\n",
              "      <td>0.157066</td>\n",
              "    </tr>\n",
              "    <tr>\n",
              "      <th>23</th>\n",
              "      <td>33000.0</td>\n",
              "      <td>0.110741</td>\n",
              "      <td>0.128239</td>\n",
              "      <td>0.180689</td>\n",
              "    </tr>\n",
              "    <tr>\n",
              "      <th>24</th>\n",
              "      <td>34000.0</td>\n",
              "      <td>0.123063</td>\n",
              "      <td>0.145319</td>\n",
              "      <td>0.206159</td>\n",
              "    </tr>\n",
              "    <tr>\n",
              "      <th>25</th>\n",
              "      <td>35000.0</td>\n",
              "      <td>0.135933</td>\n",
              "      <td>0.163500</td>\n",
              "      <td>0.233454</td>\n",
              "    </tr>\n",
              "    <tr>\n",
              "      <th>26</th>\n",
              "      <td>36000.0</td>\n",
              "      <td>0.149322</td>\n",
              "      <td>0.182756</td>\n",
              "      <td>0.262542</td>\n",
              "    </tr>\n",
              "    <tr>\n",
              "      <th>27</th>\n",
              "      <td>37000.0</td>\n",
              "      <td>0.163198</td>\n",
              "      <td>0.203054</td>\n",
              "      <td>0.293386</td>\n",
              "    </tr>\n",
              "    <tr>\n",
              "      <th>28</th>\n",
              "      <td>38000.0</td>\n",
              "      <td>0.177532</td>\n",
              "      <td>0.224360</td>\n",
              "      <td>0.325943</td>\n",
              "    </tr>\n",
              "    <tr>\n",
              "      <th>29</th>\n",
              "      <td>39000.0</td>\n",
              "      <td>0.192293</td>\n",
              "      <td>0.246635</td>\n",
              "      <td>0.360164</td>\n",
              "    </tr>\n",
              "    <tr>\n",
              "      <th>30</th>\n",
              "      <td>40000.0</td>\n",
              "      <td>0.207451</td>\n",
              "      <td>0.269842</td>\n",
              "      <td>0.395996</td>\n",
              "    </tr>\n",
              "    <tr>\n",
              "      <th>31</th>\n",
              "      <td>41000.0</td>\n",
              "      <td>0.222978</td>\n",
              "      <td>0.293940</td>\n",
              "      <td>0.433383</td>\n",
              "    </tr>\n",
              "    <tr>\n",
              "      <th>32</th>\n",
              "      <td>42000.0</td>\n",
              "      <td>0.238844</td>\n",
              "      <td>0.318889</td>\n",
              "      <td>0.472267</td>\n",
              "    </tr>\n",
              "    <tr>\n",
              "      <th>33</th>\n",
              "      <td>43000.0</td>\n",
              "      <td>0.255022</td>\n",
              "      <td>0.344647</td>\n",
              "      <td>0.512586</td>\n",
              "    </tr>\n",
              "    <tr>\n",
              "      <th>34</th>\n",
              "      <td>44000.0</td>\n",
              "      <td>0.271486</td>\n",
              "      <td>0.371173</td>\n",
              "      <td>0.554281</td>\n",
              "    </tr>\n",
              "    <tr>\n",
              "      <th>35</th>\n",
              "      <td>45000.0</td>\n",
              "      <td>0.288211</td>\n",
              "      <td>0.398425</td>\n",
              "      <td>0.597287</td>\n",
              "    </tr>\n",
              "    <tr>\n",
              "      <th>36</th>\n",
              "      <td>46000.0</td>\n",
              "      <td>0.305171</td>\n",
              "      <td>0.426363</td>\n",
              "      <td>0.641542</td>\n",
              "    </tr>\n",
              "    <tr>\n",
              "      <th>37</th>\n",
              "      <td>47000.0</td>\n",
              "      <td>0.322345</td>\n",
              "      <td>0.454945</td>\n",
              "      <td>0.686983</td>\n",
              "    </tr>\n",
              "    <tr>\n",
              "      <th>38</th>\n",
              "      <td>48000.0</td>\n",
              "      <td>0.339709</td>\n",
              "      <td>0.484133</td>\n",
              "      <td>0.733549</td>\n",
              "    </tr>\n",
              "    <tr>\n",
              "      <th>39</th>\n",
              "      <td>49000.0</td>\n",
              "      <td>0.357243</td>\n",
              "      <td>0.513888</td>\n",
              "      <td>0.781176</td>\n",
              "    </tr>\n",
              "    <tr>\n",
              "      <th>40</th>\n",
              "      <td>50000.0</td>\n",
              "      <td>0.374926</td>\n",
              "      <td>0.544172</td>\n",
              "      <td>0.829806</td>\n",
              "    </tr>\n",
              "    <tr>\n",
              "      <th>41</th>\n",
              "      <td>51000.0</td>\n",
              "      <td>0.392739</td>\n",
              "      <td>0.574948</td>\n",
              "      <td>0.879378</td>\n",
              "    </tr>\n",
              "    <tr>\n",
              "      <th>42</th>\n",
              "      <td>52000.0</td>\n",
              "      <td>0.410665</td>\n",
              "      <td>0.606180</td>\n",
              "      <td>0.929833</td>\n",
              "    </tr>\n",
              "    <tr>\n",
              "      <th>43</th>\n",
              "      <td>53000.0</td>\n",
              "      <td>0.428687</td>\n",
              "      <td>0.637835</td>\n",
              "      <td>0.981116</td>\n",
              "    </tr>\n",
              "    <tr>\n",
              "      <th>44</th>\n",
              "      <td>54000.0</td>\n",
              "      <td>0.446788</td>\n",
              "      <td>0.669878</td>\n",
              "      <td>1.033171</td>\n",
              "    </tr>\n",
              "    <tr>\n",
              "      <th>45</th>\n",
              "      <td>55000.0</td>\n",
              "      <td>0.464954</td>\n",
              "      <td>0.702279</td>\n",
              "      <td>1.085945</td>\n",
              "    </tr>\n",
              "    <tr>\n",
              "      <th>46</th>\n",
              "      <td>56000.0</td>\n",
              "      <td>0.483170</td>\n",
              "      <td>0.735005</td>\n",
              "      <td>1.139385</td>\n",
              "    </tr>\n",
              "    <tr>\n",
              "      <th>47</th>\n",
              "      <td>57000.0</td>\n",
              "      <td>0.501424</td>\n",
              "      <td>0.768028</td>\n",
              "      <td>1.193442</td>\n",
              "    </tr>\n",
              "    <tr>\n",
              "      <th>48</th>\n",
              "      <td>58000.0</td>\n",
              "      <td>0.519702</td>\n",
              "      <td>0.801320</td>\n",
              "      <td>1.248066</td>\n",
              "    </tr>\n",
              "    <tr>\n",
              "      <th>49</th>\n",
              "      <td>59000.0</td>\n",
              "      <td>0.537993</td>\n",
              "      <td>0.834853</td>\n",
              "      <td>1.303213</td>\n",
              "    </tr>\n",
              "    <tr>\n",
              "      <th>50</th>\n",
              "      <td>60000.0</td>\n",
              "      <td>0.556285</td>\n",
              "      <td>0.868601</td>\n",
              "      <td>1.358836</td>\n",
              "    </tr>\n",
              "    <tr>\n",
              "      <th>51</th>\n",
              "      <td>61000.0</td>\n",
              "      <td>0.574570</td>\n",
              "      <td>0.902541</td>\n",
              "      <td>1.414893</td>\n",
              "    </tr>\n",
              "    <tr>\n",
              "      <th>52</th>\n",
              "      <td>62000.0</td>\n",
              "      <td>0.592837</td>\n",
              "      <td>0.936647</td>\n",
              "      <td>1.471343</td>\n",
              "    </tr>\n",
              "    <tr>\n",
              "      <th>53</th>\n",
              "      <td>63000.0</td>\n",
              "      <td>0.611077</td>\n",
              "      <td>0.970899</td>\n",
              "      <td>1.528146</td>\n",
              "    </tr>\n",
              "    <tr>\n",
              "      <th>54</th>\n",
              "      <td>64000.0</td>\n",
              "      <td>0.629282</td>\n",
              "      <td>1.005274</td>\n",
              "      <td>1.585264</td>\n",
              "    </tr>\n",
              "    <tr>\n",
              "      <th>55</th>\n",
              "      <td>65000.0</td>\n",
              "      <td>0.647444</td>\n",
              "      <td>1.039752</td>\n",
              "      <td>1.642661</td>\n",
              "    </tr>\n",
              "    <tr>\n",
              "      <th>56</th>\n",
              "      <td>66000.0</td>\n",
              "      <td>0.665557</td>\n",
              "      <td>1.074315</td>\n",
              "      <td>1.700303</td>\n",
              "    </tr>\n",
              "    <tr>\n",
              "      <th>57</th>\n",
              "      <td>67000.0</td>\n",
              "      <td>0.683613</td>\n",
              "      <td>1.108943</td>\n",
              "      <td>1.758157</td>\n",
              "    </tr>\n",
              "    <tr>\n",
              "      <th>58</th>\n",
              "      <td>68000.0</td>\n",
              "      <td>0.701606</td>\n",
              "      <td>1.143620</td>\n",
              "      <td>1.816191</td>\n",
              "    </tr>\n",
              "    <tr>\n",
              "      <th>59</th>\n",
              "      <td>69000.0</td>\n",
              "      <td>0.719531</td>\n",
              "      <td>1.178330</td>\n",
              "      <td>1.874375</td>\n",
              "    </tr>\n",
              "  </tbody>\n",
              "</table>\n",
              "</div>\n",
              "      <button class=\"colab-df-convert\" onclick=\"convertToInteractive('df-9b983cff-908f-49ea-b8d5-62d1b02a6cb7')\"\n",
              "              title=\"Convert this dataframe to an interactive table.\"\n",
              "              style=\"display:none;\">\n",
              "        \n",
              "  <svg xmlns=\"http://www.w3.org/2000/svg\" height=\"24px\"viewBox=\"0 0 24 24\"\n",
              "       width=\"24px\">\n",
              "    <path d=\"M0 0h24v24H0V0z\" fill=\"none\"/>\n",
              "    <path d=\"M18.56 5.44l.94 2.06.94-2.06 2.06-.94-2.06-.94-.94-2.06-.94 2.06-2.06.94zm-11 1L8.5 8.5l.94-2.06 2.06-.94-2.06-.94L8.5 2.5l-.94 2.06-2.06.94zm10 10l.94 2.06.94-2.06 2.06-.94-2.06-.94-.94-2.06-.94 2.06-2.06.94z\"/><path d=\"M17.41 7.96l-1.37-1.37c-.4-.4-.92-.59-1.43-.59-.52 0-1.04.2-1.43.59L10.3 9.45l-7.72 7.72c-.78.78-.78 2.05 0 2.83L4 21.41c.39.39.9.59 1.41.59.51 0 1.02-.2 1.41-.59l7.78-7.78 2.81-2.81c.8-.78.8-2.07 0-2.86zM5.41 20L4 18.59l7.72-7.72 1.47 1.35L5.41 20z\"/>\n",
              "  </svg>\n",
              "      </button>\n",
              "      \n",
              "  <style>\n",
              "    .colab-df-container {\n",
              "      display:flex;\n",
              "      flex-wrap:wrap;\n",
              "      gap: 12px;\n",
              "    }\n",
              "\n",
              "    .colab-df-convert {\n",
              "      background-color: #E8F0FE;\n",
              "      border: none;\n",
              "      border-radius: 50%;\n",
              "      cursor: pointer;\n",
              "      display: none;\n",
              "      fill: #1967D2;\n",
              "      height: 32px;\n",
              "      padding: 0 0 0 0;\n",
              "      width: 32px;\n",
              "    }\n",
              "\n",
              "    .colab-df-convert:hover {\n",
              "      background-color: #E2EBFA;\n",
              "      box-shadow: 0px 1px 2px rgba(60, 64, 67, 0.3), 0px 1px 3px 1px rgba(60, 64, 67, 0.15);\n",
              "      fill: #174EA6;\n",
              "    }\n",
              "\n",
              "    [theme=dark] .colab-df-convert {\n",
              "      background-color: #3B4455;\n",
              "      fill: #D2E3FC;\n",
              "    }\n",
              "\n",
              "    [theme=dark] .colab-df-convert:hover {\n",
              "      background-color: #434B5C;\n",
              "      box-shadow: 0px 1px 3px 1px rgba(0, 0, 0, 0.15);\n",
              "      filter: drop-shadow(0px 1px 2px rgba(0, 0, 0, 0.3));\n",
              "      fill: #FFFFFF;\n",
              "    }\n",
              "  </style>\n",
              "\n",
              "      <script>\n",
              "        const buttonEl =\n",
              "          document.querySelector('#df-9b983cff-908f-49ea-b8d5-62d1b02a6cb7 button.colab-df-convert');\n",
              "        buttonEl.style.display =\n",
              "          google.colab.kernel.accessAllowed ? 'block' : 'none';\n",
              "\n",
              "        async function convertToInteractive(key) {\n",
              "          const element = document.querySelector('#df-9b983cff-908f-49ea-b8d5-62d1b02a6cb7');\n",
              "          const dataTable =\n",
              "            await google.colab.kernel.invokeFunction('convertToInteractive',\n",
              "                                                     [key], {});\n",
              "          if (!dataTable) return;\n",
              "\n",
              "          const docLinkHtml = 'Like what you see? Visit the ' +\n",
              "            '<a target=\"_blank\" href=https://colab.research.google.com/notebooks/data_table.ipynb>data table notebook</a>'\n",
              "            + ' to learn more about interactive tables.';\n",
              "          element.innerHTML = '';\n",
              "          dataTable['output_type'] = 'display_data';\n",
              "          await google.colab.output.renderOutput(dataTable, element);\n",
              "          const docLink = document.createElement('div');\n",
              "          docLink.innerHTML = docLinkHtml;\n",
              "          element.appendChild(docLink);\n",
              "        }\n",
              "      </script>\n",
              "    </div>\n",
              "  </div>\n",
              "  "
            ]
          },
          "metadata": {},
          "execution_count": 150
        }
      ]
    },
    {
      "cell_type": "code",
      "source": [],
      "metadata": {
        "id": "jovy_nP_-o9e"
      },
      "execution_count": null,
      "outputs": []
    }
  ]
}